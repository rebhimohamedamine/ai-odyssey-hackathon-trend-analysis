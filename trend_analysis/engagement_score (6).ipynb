{
  "nbformat": 4,
  "nbformat_minor": 0,
  "metadata": {
    "colab": {
      "provenance": []
    },
    "kernelspec": {
      "name": "python3",
      "display_name": "Python 3"
    },
    "language_info": {
      "name": "python"
    }
  },
  "cells": [
    {
      "cell_type": "markdown",
      "source": [
        "# Nouvelle section\n",
        "In this notebook we will focus on analyzing engagement metrics for videos to determine key factors influencing virality:\n",
        "Data Loading: It loads a dataset using Pandas.\n",
        "Correlation Analysis: It computes a correlation matrix between engagement metrics (play count, share count, comment count, digg count).\n",
        "Viral Score Calculation: It defines a \"viral score\" as a weighted sum of engagement metrics and ranks the top 10 viral videos.\n",
        "Optimization Insights: Markdown sections indicate an analysis of the best video duration and the best time to post."
      ],
      "metadata": {
        "id": "rfVRV9E2RhEP"
      }
    },
    {
      "cell_type": "code",
      "execution_count": 2,
      "metadata": {
        "colab": {
          "base_uri": "https://localhost:8080/"
        },
        "id": "NhgjaXqYgpSg",
        "outputId": "bafcedaa-a1e4-4cec-f1df-0e33adf29fe9"
      },
      "outputs": [
        {
          "output_type": "execute_result",
          "data": {
            "text/plain": [
              "Index(['id', 'play_count', 'share_count', 'comment_count', 'digg_count',\n",
              "       'collect_count', 'followers', 'likes', 'video_count', 'hashtags',\n",
              "       'create_time', 'duration', 'video_url', 'music_title', 'music_author',\n",
              "       'music_id', 'username', 'music_play_url', 'description', 'author_id',\n",
              "       'follower_count', 'heart_count', 'nickname', 'verified', 'friend_count',\n",
              "       'sentiment', 'tiktok_web_url', 'audio_path'],\n",
              "      dtype='object')"
            ]
          },
          "metadata": {},
          "execution_count": 2
        }
      ],
      "source": [
        "\n",
        "import pandas\n",
        "df=pandas.read_csv(\"my_dataframe (8).csv\")\n",
        "df.columns"
      ]
    },
    {
      "cell_type": "code",
      "source": [
        "correlation_matrix = df[['play_count', 'share_count', 'comment_count', 'digg_count']].corr()\n",
        "print(\"Correlation Matrix:\")\n",
        "print(correlation_matrix)"
      ],
      "metadata": {
        "colab": {
          "base_uri": "https://localhost:8080/"
        },
        "id": "myoY6FK4sFdn",
        "outputId": "f7b8bf8e-df07-430e-9046-98256ee11ba4"
      },
      "execution_count": 3,
      "outputs": [
        {
          "output_type": "stream",
          "name": "stdout",
          "text": [
            "Correlation Matrix:\n",
            "               play_count  share_count  comment_count  digg_count\n",
            "play_count       1.000000     0.467992       0.358971    0.825355\n",
            "share_count      0.467992     1.000000       0.275429    0.691314\n",
            "comment_count    0.358971     0.275429       1.000000    0.529634\n",
            "digg_count       0.825355     0.691314       0.529634    1.000000\n"
          ]
        }
      ]
    },
    {
      "cell_type": "code",
      "source": [
        "# Define a viral score as a weighted sum of engagement metrics\n",
        "df['viral_score'] = (df['play_count'] * 0.4 + df['share_count'] * 0.3 + df['comment_count'] * 0.2 + df['digg_count'] * 0.1)\n",
        "\n",
        "# Now, 'viral_score' is a column in your DataFrame\n",
        "\n",
        "# Sort by viral score (optional)\n",
        "top_viral_videos = df.sort_values(by='viral_score', ascending=False).head(10)\n",
        "print(\"Top 10 Viral Videos:\")\n",
        "print(top_viral_videos)"
      ],
      "metadata": {
        "colab": {
          "base_uri": "https://localhost:8080/"
        },
        "id": "1Pa7Eat-zY5B",
        "outputId": "d7beb02f-b562-4932-ad7b-c98c5f6dccd2"
      },
      "execution_count": 4,
      "outputs": [
        {
          "output_type": "stream",
          "name": "stdout",
          "text": [
            "Top 10 Viral Videos:\n",
            "                      id  play_count  share_count  comment_count  digg_count  \\\n",
            "236  7438631768900570401   192600000      1000000         121300    19800000   \n",
            "229  7438631768900570401   192600000      1000000         121300    19800000   \n",
            "222  7438631768900570401   192600000      1000000         121300    19800000   \n",
            "223  7438631768900570401   192600000      1000000         121300    19800000   \n",
            "224  7438631768900570401   192600000      1000000         121300    19800000   \n",
            "225  7438631768900570401   192600000      1000000         121300    19800000   \n",
            "226  7438631768900570401   192600000      1000000         121300    19800000   \n",
            "227  7438631768900570401   192600000      1000000         121300    19800000   \n",
            "228  7438631768900570401   192600000      1000000         121300    19800000   \n",
            "230  7438631768900570401   192600000      1000000         121300    19800000   \n",
            "\n",
            "     collect_count  followers      likes  video_count hashtags  ...  \\\n",
            "236        1000000   26700000  192300000           50       []  ...   \n",
            "229        1000000   26700000  192300000           50       []  ...   \n",
            "222        1000000   26700000  192300000           50       []  ...   \n",
            "223        1000000   26700000  192300000           50       []  ...   \n",
            "224        1000000   26700000  192300000           50       []  ...   \n",
            "225        1000000   26700000  192300000           50       []  ...   \n",
            "226        1000000   26700000  192300000           50       []  ...   \n",
            "227        1000000   26700000  192300000           50       []  ...   \n",
            "228        1000000   26700000  192300000           50       []  ...   \n",
            "230        1000000   26700000  192300000           50       []  ...   \n",
            "\n",
            "        author_id  follower_count heart_count      nickname verified  \\\n",
            "236  lamine.yamal        26700000   192300000  Lamine Yamal     True   \n",
            "229  lamine.yamal        26700000   192300000  Lamine Yamal     True   \n",
            "222  lamine.yamal        26700000   192300000  Lamine Yamal     True   \n",
            "223  lamine.yamal        26700000   192300000  Lamine Yamal     True   \n",
            "224  lamine.yamal        26700000   192300000  Lamine Yamal     True   \n",
            "225  lamine.yamal        26700000   192300000  Lamine Yamal     True   \n",
            "226  lamine.yamal        26700000   192300000  Lamine Yamal     True   \n",
            "227  lamine.yamal        26700000   192300000  Lamine Yamal     True   \n",
            "228  lamine.yamal        26700000   192300000  Lamine Yamal     True   \n",
            "230  lamine.yamal        26700000   192300000  Lamine Yamal     True   \n",
            "\n",
            "     friend_count sentiment  \\\n",
            "236             0    0.9795   \n",
            "229             0    0.0772   \n",
            "222             0    0.5719   \n",
            "223             0    0.0000   \n",
            "224             0    0.0000   \n",
            "225             0   -0.1511   \n",
            "226             0    0.0000   \n",
            "227             0    0.0000   \n",
            "228             0   -0.4019   \n",
            "230             0   -0.4019   \n",
            "\n",
            "                                        tiktok_web_url  \\\n",
            "236  https://www.tiktok.com/@lamine.yamal/video/743...   \n",
            "229  https://www.tiktok.com/@lamine.yamal/video/743...   \n",
            "222  https://www.tiktok.com/@lamine.yamal/video/743...   \n",
            "223  https://www.tiktok.com/@lamine.yamal/video/743...   \n",
            "224  https://www.tiktok.com/@lamine.yamal/video/743...   \n",
            "225  https://www.tiktok.com/@lamine.yamal/video/743...   \n",
            "226  https://www.tiktok.com/@lamine.yamal/video/743...   \n",
            "227  https://www.tiktok.com/@lamine.yamal/video/743...   \n",
            "228  https://www.tiktok.com/@lamine.yamal/video/743...   \n",
            "230  https://www.tiktok.com/@lamine.yamal/video/743...   \n",
            "\n",
            "                         audio_path viral_score  \n",
            "236  audios/7438631768900570401.mp3  79344260.0  \n",
            "229  audios/7438631768900570401.mp3  79344260.0  \n",
            "222  audios/7438631768900570401.mp3  79344260.0  \n",
            "223  audios/7438631768900570401.mp3  79344260.0  \n",
            "224  audios/7438631768900570401.mp3  79344260.0  \n",
            "225  audios/7438631768900570401.mp3  79344260.0  \n",
            "226  audios/7438631768900570401.mp3  79344260.0  \n",
            "227  audios/7438631768900570401.mp3  79344260.0  \n",
            "228  audios/7438631768900570401.mp3  79344260.0  \n",
            "230  audios/7438631768900570401.mp3  79344260.0  \n",
            "\n",
            "[10 rows x 29 columns]\n"
          ]
        }
      ]
    },
    {
      "cell_type": "code",
      "source": [],
      "metadata": {
        "id": "xNmYDLL28kXc"
      },
      "execution_count": null,
      "outputs": []
    },
    {
      "cell_type": "code",
      "source": [
        "df.head()"
      ],
      "metadata": {
        "id": "tcznYDwHE3pJ",
        "colab": {
          "base_uri": "https://localhost:8080/",
          "height": 255
        },
        "outputId": "c202a839-4b22-45b7-c87d-775a8ee1f51e"
      },
      "execution_count": 5,
      "outputs": [
        {
          "output_type": "execute_result",
          "data": {
            "text/plain": [
              "                    id  play_count  share_count  comment_count  digg_count  \\\n",
              "0  7446111299458698498     4700000        54600           3247      885900   \n",
              "1  7446111299458698498     4700000        54600           3247      885900   \n",
              "2  7446111299458698498     4700000        54600           3247      885900   \n",
              "3  7446111299458698498     4700000        54600           3247      885900   \n",
              "4  7446111299458698498     4700000        54600           3247      885900   \n",
              "\n",
              "   collect_count  followers     likes  video_count hashtags  ...   author_id  \\\n",
              "0          88200     709600  30100000          945       []  ...  notsaarita   \n",
              "1          88200     709600  30100000          945       []  ...  notsaarita   \n",
              "2          88200     709600  30100000          945       []  ...  notsaarita   \n",
              "3          88200     709600  30100000          945       []  ...  notsaarita   \n",
              "4          88200     709600  30100000          945       []  ...  notsaarita   \n",
              "\n",
              "   follower_count heart_count nickname verified  friend_count sentiment  \\\n",
              "0          709600    30100000  𝓢 𝓐 𝓡 𝓐    False             0    0.0000   \n",
              "1          709600    30100000  𝓢 𝓐 𝓡 𝓐    False             0    0.2960   \n",
              "2          709600    30100000  𝓢 𝓐 𝓡 𝓐    False             0    0.2732   \n",
              "3          709600    30100000  𝓢 𝓐 𝓡 𝓐    False             0    0.0000   \n",
              "4          709600    30100000  𝓢 𝓐 𝓡 𝓐    False             0    0.0000   \n",
              "\n",
              "                                      tiktok_web_url  \\\n",
              "0  https://www.tiktok.com/@notsaarita/video/74461...   \n",
              "1  https://www.tiktok.com/@notsaarita/video/74461...   \n",
              "2  https://www.tiktok.com/@notsaarita/video/74461...   \n",
              "3  https://www.tiktok.com/@notsaarita/video/74461...   \n",
              "4  https://www.tiktok.com/@notsaarita/video/74461...   \n",
              "\n",
              "                       audio_path viral_score  \n",
              "0  audios/7446111299458698498.mp3   1985619.4  \n",
              "1  audios/7446111299458698498.mp3   1985619.4  \n",
              "2  audios/7446111299458698498.mp3   1985619.4  \n",
              "3  audios/7446111299458698498.mp3   1985619.4  \n",
              "4  audios/7446111299458698498.mp3   1985619.4  \n",
              "\n",
              "[5 rows x 29 columns]"
            ],
            "text/html": [
              "\n",
              "  <div id=\"df-93632f0a-4d6b-48b9-b277-f263209741dd\" class=\"colab-df-container\">\n",
              "    <div>\n",
              "<style scoped>\n",
              "    .dataframe tbody tr th:only-of-type {\n",
              "        vertical-align: middle;\n",
              "    }\n",
              "\n",
              "    .dataframe tbody tr th {\n",
              "        vertical-align: top;\n",
              "    }\n",
              "\n",
              "    .dataframe thead th {\n",
              "        text-align: right;\n",
              "    }\n",
              "</style>\n",
              "<table border=\"1\" class=\"dataframe\">\n",
              "  <thead>\n",
              "    <tr style=\"text-align: right;\">\n",
              "      <th></th>\n",
              "      <th>id</th>\n",
              "      <th>play_count</th>\n",
              "      <th>share_count</th>\n",
              "      <th>comment_count</th>\n",
              "      <th>digg_count</th>\n",
              "      <th>collect_count</th>\n",
              "      <th>followers</th>\n",
              "      <th>likes</th>\n",
              "      <th>video_count</th>\n",
              "      <th>hashtags</th>\n",
              "      <th>...</th>\n",
              "      <th>author_id</th>\n",
              "      <th>follower_count</th>\n",
              "      <th>heart_count</th>\n",
              "      <th>nickname</th>\n",
              "      <th>verified</th>\n",
              "      <th>friend_count</th>\n",
              "      <th>sentiment</th>\n",
              "      <th>tiktok_web_url</th>\n",
              "      <th>audio_path</th>\n",
              "      <th>viral_score</th>\n",
              "    </tr>\n",
              "  </thead>\n",
              "  <tbody>\n",
              "    <tr>\n",
              "      <th>0</th>\n",
              "      <td>7446111299458698498</td>\n",
              "      <td>4700000</td>\n",
              "      <td>54600</td>\n",
              "      <td>3247</td>\n",
              "      <td>885900</td>\n",
              "      <td>88200</td>\n",
              "      <td>709600</td>\n",
              "      <td>30100000</td>\n",
              "      <td>945</td>\n",
              "      <td>[]</td>\n",
              "      <td>...</td>\n",
              "      <td>notsaarita</td>\n",
              "      <td>709600</td>\n",
              "      <td>30100000</td>\n",
              "      <td>𝓢 𝓐 𝓡 𝓐</td>\n",
              "      <td>False</td>\n",
              "      <td>0</td>\n",
              "      <td>0.0000</td>\n",
              "      <td>https://www.tiktok.com/@notsaarita/video/74461...</td>\n",
              "      <td>audios/7446111299458698498.mp3</td>\n",
              "      <td>1985619.4</td>\n",
              "    </tr>\n",
              "    <tr>\n",
              "      <th>1</th>\n",
              "      <td>7446111299458698498</td>\n",
              "      <td>4700000</td>\n",
              "      <td>54600</td>\n",
              "      <td>3247</td>\n",
              "      <td>885900</td>\n",
              "      <td>88200</td>\n",
              "      <td>709600</td>\n",
              "      <td>30100000</td>\n",
              "      <td>945</td>\n",
              "      <td>[]</td>\n",
              "      <td>...</td>\n",
              "      <td>notsaarita</td>\n",
              "      <td>709600</td>\n",
              "      <td>30100000</td>\n",
              "      <td>𝓢 𝓐 𝓡 𝓐</td>\n",
              "      <td>False</td>\n",
              "      <td>0</td>\n",
              "      <td>0.2960</td>\n",
              "      <td>https://www.tiktok.com/@notsaarita/video/74461...</td>\n",
              "      <td>audios/7446111299458698498.mp3</td>\n",
              "      <td>1985619.4</td>\n",
              "    </tr>\n",
              "    <tr>\n",
              "      <th>2</th>\n",
              "      <td>7446111299458698498</td>\n",
              "      <td>4700000</td>\n",
              "      <td>54600</td>\n",
              "      <td>3247</td>\n",
              "      <td>885900</td>\n",
              "      <td>88200</td>\n",
              "      <td>709600</td>\n",
              "      <td>30100000</td>\n",
              "      <td>945</td>\n",
              "      <td>[]</td>\n",
              "      <td>...</td>\n",
              "      <td>notsaarita</td>\n",
              "      <td>709600</td>\n",
              "      <td>30100000</td>\n",
              "      <td>𝓢 𝓐 𝓡 𝓐</td>\n",
              "      <td>False</td>\n",
              "      <td>0</td>\n",
              "      <td>0.2732</td>\n",
              "      <td>https://www.tiktok.com/@notsaarita/video/74461...</td>\n",
              "      <td>audios/7446111299458698498.mp3</td>\n",
              "      <td>1985619.4</td>\n",
              "    </tr>\n",
              "    <tr>\n",
              "      <th>3</th>\n",
              "      <td>7446111299458698498</td>\n",
              "      <td>4700000</td>\n",
              "      <td>54600</td>\n",
              "      <td>3247</td>\n",
              "      <td>885900</td>\n",
              "      <td>88200</td>\n",
              "      <td>709600</td>\n",
              "      <td>30100000</td>\n",
              "      <td>945</td>\n",
              "      <td>[]</td>\n",
              "      <td>...</td>\n",
              "      <td>notsaarita</td>\n",
              "      <td>709600</td>\n",
              "      <td>30100000</td>\n",
              "      <td>𝓢 𝓐 𝓡 𝓐</td>\n",
              "      <td>False</td>\n",
              "      <td>0</td>\n",
              "      <td>0.0000</td>\n",
              "      <td>https://www.tiktok.com/@notsaarita/video/74461...</td>\n",
              "      <td>audios/7446111299458698498.mp3</td>\n",
              "      <td>1985619.4</td>\n",
              "    </tr>\n",
              "    <tr>\n",
              "      <th>4</th>\n",
              "      <td>7446111299458698498</td>\n",
              "      <td>4700000</td>\n",
              "      <td>54600</td>\n",
              "      <td>3247</td>\n",
              "      <td>885900</td>\n",
              "      <td>88200</td>\n",
              "      <td>709600</td>\n",
              "      <td>30100000</td>\n",
              "      <td>945</td>\n",
              "      <td>[]</td>\n",
              "      <td>...</td>\n",
              "      <td>notsaarita</td>\n",
              "      <td>709600</td>\n",
              "      <td>30100000</td>\n",
              "      <td>𝓢 𝓐 𝓡 𝓐</td>\n",
              "      <td>False</td>\n",
              "      <td>0</td>\n",
              "      <td>0.0000</td>\n",
              "      <td>https://www.tiktok.com/@notsaarita/video/74461...</td>\n",
              "      <td>audios/7446111299458698498.mp3</td>\n",
              "      <td>1985619.4</td>\n",
              "    </tr>\n",
              "  </tbody>\n",
              "</table>\n",
              "<p>5 rows × 29 columns</p>\n",
              "</div>\n",
              "    <div class=\"colab-df-buttons\">\n",
              "\n",
              "  <div class=\"colab-df-container\">\n",
              "    <button class=\"colab-df-convert\" onclick=\"convertToInteractive('df-93632f0a-4d6b-48b9-b277-f263209741dd')\"\n",
              "            title=\"Convert this dataframe to an interactive table.\"\n",
              "            style=\"display:none;\">\n",
              "\n",
              "  <svg xmlns=\"http://www.w3.org/2000/svg\" height=\"24px\" viewBox=\"0 -960 960 960\">\n",
              "    <path d=\"M120-120v-720h720v720H120Zm60-500h600v-160H180v160Zm220 220h160v-160H400v160Zm0 220h160v-160H400v160ZM180-400h160v-160H180v160Zm440 0h160v-160H620v160ZM180-180h160v-160H180v160Zm440 0h160v-160H620v160Z\"/>\n",
              "  </svg>\n",
              "    </button>\n",
              "\n",
              "  <style>\n",
              "    .colab-df-container {\n",
              "      display:flex;\n",
              "      gap: 12px;\n",
              "    }\n",
              "\n",
              "    .colab-df-convert {\n",
              "      background-color: #E8F0FE;\n",
              "      border: none;\n",
              "      border-radius: 50%;\n",
              "      cursor: pointer;\n",
              "      display: none;\n",
              "      fill: #1967D2;\n",
              "      height: 32px;\n",
              "      padding: 0 0 0 0;\n",
              "      width: 32px;\n",
              "    }\n",
              "\n",
              "    .colab-df-convert:hover {\n",
              "      background-color: #E2EBFA;\n",
              "      box-shadow: 0px 1px 2px rgba(60, 64, 67, 0.3), 0px 1px 3px 1px rgba(60, 64, 67, 0.15);\n",
              "      fill: #174EA6;\n",
              "    }\n",
              "\n",
              "    .colab-df-buttons div {\n",
              "      margin-bottom: 4px;\n",
              "    }\n",
              "\n",
              "    [theme=dark] .colab-df-convert {\n",
              "      background-color: #3B4455;\n",
              "      fill: #D2E3FC;\n",
              "    }\n",
              "\n",
              "    [theme=dark] .colab-df-convert:hover {\n",
              "      background-color: #434B5C;\n",
              "      box-shadow: 0px 1px 3px 1px rgba(0, 0, 0, 0.15);\n",
              "      filter: drop-shadow(0px 1px 2px rgba(0, 0, 0, 0.3));\n",
              "      fill: #FFFFFF;\n",
              "    }\n",
              "  </style>\n",
              "\n",
              "    <script>\n",
              "      const buttonEl =\n",
              "        document.querySelector('#df-93632f0a-4d6b-48b9-b277-f263209741dd button.colab-df-convert');\n",
              "      buttonEl.style.display =\n",
              "        google.colab.kernel.accessAllowed ? 'block' : 'none';\n",
              "\n",
              "      async function convertToInteractive(key) {\n",
              "        const element = document.querySelector('#df-93632f0a-4d6b-48b9-b277-f263209741dd');\n",
              "        const dataTable =\n",
              "          await google.colab.kernel.invokeFunction('convertToInteractive',\n",
              "                                                    [key], {});\n",
              "        if (!dataTable) return;\n",
              "\n",
              "        const docLinkHtml = 'Like what you see? Visit the ' +\n",
              "          '<a target=\"_blank\" href=https://colab.research.google.com/notebooks/data_table.ipynb>data table notebook</a>'\n",
              "          + ' to learn more about interactive tables.';\n",
              "        element.innerHTML = '';\n",
              "        dataTable['output_type'] = 'display_data';\n",
              "        await google.colab.output.renderOutput(dataTable, element);\n",
              "        const docLink = document.createElement('div');\n",
              "        docLink.innerHTML = docLinkHtml;\n",
              "        element.appendChild(docLink);\n",
              "      }\n",
              "    </script>\n",
              "  </div>\n",
              "\n",
              "\n",
              "<div id=\"df-ece31a27-da8f-4530-a17e-e4bc2c627299\">\n",
              "  <button class=\"colab-df-quickchart\" onclick=\"quickchart('df-ece31a27-da8f-4530-a17e-e4bc2c627299')\"\n",
              "            title=\"Suggest charts\"\n",
              "            style=\"display:none;\">\n",
              "\n",
              "<svg xmlns=\"http://www.w3.org/2000/svg\" height=\"24px\"viewBox=\"0 0 24 24\"\n",
              "     width=\"24px\">\n",
              "    <g>\n",
              "        <path d=\"M19 3H5c-1.1 0-2 .9-2 2v14c0 1.1.9 2 2 2h14c1.1 0 2-.9 2-2V5c0-1.1-.9-2-2-2zM9 17H7v-7h2v7zm4 0h-2V7h2v10zm4 0h-2v-4h2v4z\"/>\n",
              "    </g>\n",
              "</svg>\n",
              "  </button>\n",
              "\n",
              "<style>\n",
              "  .colab-df-quickchart {\n",
              "      --bg-color: #E8F0FE;\n",
              "      --fill-color: #1967D2;\n",
              "      --hover-bg-color: #E2EBFA;\n",
              "      --hover-fill-color: #174EA6;\n",
              "      --disabled-fill-color: #AAA;\n",
              "      --disabled-bg-color: #DDD;\n",
              "  }\n",
              "\n",
              "  [theme=dark] .colab-df-quickchart {\n",
              "      --bg-color: #3B4455;\n",
              "      --fill-color: #D2E3FC;\n",
              "      --hover-bg-color: #434B5C;\n",
              "      --hover-fill-color: #FFFFFF;\n",
              "      --disabled-bg-color: #3B4455;\n",
              "      --disabled-fill-color: #666;\n",
              "  }\n",
              "\n",
              "  .colab-df-quickchart {\n",
              "    background-color: var(--bg-color);\n",
              "    border: none;\n",
              "    border-radius: 50%;\n",
              "    cursor: pointer;\n",
              "    display: none;\n",
              "    fill: var(--fill-color);\n",
              "    height: 32px;\n",
              "    padding: 0;\n",
              "    width: 32px;\n",
              "  }\n",
              "\n",
              "  .colab-df-quickchart:hover {\n",
              "    background-color: var(--hover-bg-color);\n",
              "    box-shadow: 0 1px 2px rgba(60, 64, 67, 0.3), 0 1px 3px 1px rgba(60, 64, 67, 0.15);\n",
              "    fill: var(--button-hover-fill-color);\n",
              "  }\n",
              "\n",
              "  .colab-df-quickchart-complete:disabled,\n",
              "  .colab-df-quickchart-complete:disabled:hover {\n",
              "    background-color: var(--disabled-bg-color);\n",
              "    fill: var(--disabled-fill-color);\n",
              "    box-shadow: none;\n",
              "  }\n",
              "\n",
              "  .colab-df-spinner {\n",
              "    border: 2px solid var(--fill-color);\n",
              "    border-color: transparent;\n",
              "    border-bottom-color: var(--fill-color);\n",
              "    animation:\n",
              "      spin 1s steps(1) infinite;\n",
              "  }\n",
              "\n",
              "  @keyframes spin {\n",
              "    0% {\n",
              "      border-color: transparent;\n",
              "      border-bottom-color: var(--fill-color);\n",
              "      border-left-color: var(--fill-color);\n",
              "    }\n",
              "    20% {\n",
              "      border-color: transparent;\n",
              "      border-left-color: var(--fill-color);\n",
              "      border-top-color: var(--fill-color);\n",
              "    }\n",
              "    30% {\n",
              "      border-color: transparent;\n",
              "      border-left-color: var(--fill-color);\n",
              "      border-top-color: var(--fill-color);\n",
              "      border-right-color: var(--fill-color);\n",
              "    }\n",
              "    40% {\n",
              "      border-color: transparent;\n",
              "      border-right-color: var(--fill-color);\n",
              "      border-top-color: var(--fill-color);\n",
              "    }\n",
              "    60% {\n",
              "      border-color: transparent;\n",
              "      border-right-color: var(--fill-color);\n",
              "    }\n",
              "    80% {\n",
              "      border-color: transparent;\n",
              "      border-right-color: var(--fill-color);\n",
              "      border-bottom-color: var(--fill-color);\n",
              "    }\n",
              "    90% {\n",
              "      border-color: transparent;\n",
              "      border-bottom-color: var(--fill-color);\n",
              "    }\n",
              "  }\n",
              "</style>\n",
              "\n",
              "  <script>\n",
              "    async function quickchart(key) {\n",
              "      const quickchartButtonEl =\n",
              "        document.querySelector('#' + key + ' button');\n",
              "      quickchartButtonEl.disabled = true;  // To prevent multiple clicks.\n",
              "      quickchartButtonEl.classList.add('colab-df-spinner');\n",
              "      try {\n",
              "        const charts = await google.colab.kernel.invokeFunction(\n",
              "            'suggestCharts', [key], {});\n",
              "      } catch (error) {\n",
              "        console.error('Error during call to suggestCharts:', error);\n",
              "      }\n",
              "      quickchartButtonEl.classList.remove('colab-df-spinner');\n",
              "      quickchartButtonEl.classList.add('colab-df-quickchart-complete');\n",
              "    }\n",
              "    (() => {\n",
              "      let quickchartButtonEl =\n",
              "        document.querySelector('#df-ece31a27-da8f-4530-a17e-e4bc2c627299 button');\n",
              "      quickchartButtonEl.style.display =\n",
              "        google.colab.kernel.accessAllowed ? 'block' : 'none';\n",
              "    })();\n",
              "  </script>\n",
              "</div>\n",
              "\n",
              "    </div>\n",
              "  </div>\n"
            ],
            "application/vnd.google.colaboratory.intrinsic+json": {
              "type": "dataframe",
              "variable_name": "df"
            }
          },
          "metadata": {},
          "execution_count": 5
        }
      ]
    },
    {
      "cell_type": "markdown",
      "source": [
        "# find the best duration of video"
      ],
      "metadata": {
        "id": "SJ5QCMZDV12p"
      }
    },
    {
      "cell_type": "code",
      "source": [
        "df.columns"
      ],
      "metadata": {
        "colab": {
          "base_uri": "https://localhost:8080/"
        },
        "id": "PTwu-f9WV6Zr",
        "outputId": "22502cc5-39d7-42ce-fe55-8b3fb75e3719"
      },
      "execution_count": 7,
      "outputs": [
        {
          "output_type": "execute_result",
          "data": {
            "text/plain": [
              "Index(['id', 'play_count', 'share_count', 'comment_count', 'digg_count',\n",
              "       'collect_count', 'followers', 'likes', 'video_count', 'hashtags',\n",
              "       'create_time', 'duration', 'video_url', 'music_title', 'music_author',\n",
              "       'music_id', 'username', 'music_play_url', 'description', 'author_id',\n",
              "       'follower_count', 'heart_count', 'nickname', 'verified', 'friend_count',\n",
              "       'sentiment', 'tiktok_web_url', 'audio_path', 'viral_score'],\n",
              "      dtype='object')"
            ]
          },
          "metadata": {},
          "execution_count": 7
        }
      ]
    },
    {
      "cell_type": "code",
      "source": [
        "import pandas as pd\n",
        "# 🔹 1. Catégoriser les vidéos par durée\n",
        "df[\"content_type\"] = df[\"duration\"].apply(lambda x: \"short\" if x <= 30 else \"medium\" if x <= 60 else \"long\")\n",
        "\n",
        "# 🔹 2. Calculer l'engagement moyen pour chaque catégorie\n",
        "engagement_metrics = [\"play_count\", \"digg_count\", \"comment_count\", \"share_count\"]\n",
        "\n",
        "def compute_engagement(df_subset):\n",
        "    \"\"\"Calcule l'engagement moyen pour un sous-ensemble du dataset.\"\"\"\n",
        "    return {\n",
        "        \"average_play_count\": df_subset[\"play_count\"].mean(),\n",
        "        \"average_likes\": df_subset[\"digg_count\"].mean(),\n",
        "        \"average_comments\": df_subset[\"comment_count\"].mean(),\n",
        "        \"average_shares\": df_subset[\"share_count\"].mean()\n",
        "    }\n",
        "\n",
        "short_video_engagement = compute_engagement(df[df[\"content_type\"] == \"short\"])\n",
        "medium_video_engagement = compute_engagement(df[df[\"content_type\"] == \"medium\"])\n",
        "long_video_engagement = compute_engagement(df[df[\"content_type\"] == \"long\"])\n",
        "\n",
        "# 🔹 3. Définir une métrique d'engagement global\n",
        "def engagement_score(engagement):\n",
        "    \"\"\"Calcule un score d'engagement pondéré.\"\"\"\n",
        "    return (engagement[\"average_play_count\"] * 0.4 +\n",
        "            engagement[\"average_likes\"] * 0.3 +\n",
        "            engagement[\"average_comments\"] * 0.2 +\n",
        "            engagement[\"average_shares\"] * 0.1)\n",
        "\n",
        "# 🔹 4. Calcul du score d'engagement pour chaque type de vidéo\n",
        "short_score = engagement_score(short_video_engagement)\n",
        "medium_score = engagement_score(medium_video_engagement)\n",
        "long_score = engagement_score(long_video_engagement)\n",
        "\n",
        "# 🔹 5. Trouver la meilleure durée en comparant les scores d'engagement\n",
        "best_duration = \"short\" if short_score > max(medium_score, long_score) else (\n",
        "    \"medium\" if medium_score > long_score else \"long\"\n",
        ")\n",
        "\n",
        "# 🔹 6. Trouver la durée exacte qui maximise l'engagement\n",
        "df_filtered = df[df[\"content_type\"] == best_duration]\n",
        "best_video_length = df_filtered[\"duration\"].mean()\n",
        "\n",
        "# 🔹 7. Affichage des résultats\n",
        "print(\"📊 Engagement Score par Type de Vidéo:\")\n",
        "print(f\"Short Videos: {short_score:.2f}\")\n",
        "print(f\"Medium Videos: {medium_score:.2f}\")\n",
        "print(f\"Long Videos: {long_score:.2f}\")\n",
        "print()\n",
        "print(f\"🏆 Meilleure Durée de Vidéo : {best_video_length:.2f} secondes ({best_duration.upper()})\")\n",
        "\n",
        "# 🔹 8. Ajouter cette information au DataFrame final\n",
        "df_features = pd.DataFrame(columns=[ \"best_video_length\", \"best_post_time\"])\n",
        "\n",
        "# Ajouter la meilleure durée de vidéo\n",
        "df_features[\"best_video_length\"] = best_video_length\n",
        "\n",
        "# Sauvegarder le fichier\n",
        "df_features.to_csv(\"viral_engagement.csv\", index=False)\n",
        "\n",
        "print(\"viral_engagement.csv' créé/mis à jour avec la meilleure durée de vidéo !\")"
      ],
      "metadata": {
        "id": "aUKSxzLJWxJw",
        "colab": {
          "base_uri": "https://localhost:8080/"
        },
        "outputId": "47ff13fa-19b5-441c-8b4c-3fb53091ce3a"
      },
      "execution_count": 8,
      "outputs": [
        {
          "output_type": "stream",
          "name": "stdout",
          "text": [
            "📊 Engagement Score par Type de Vidéo:\n",
            "Short Videos: 6824847.44\n",
            "Medium Videos: 5617668.50\n",
            "Long Videos: 6579463.18\n",
            "\n",
            "🏆 Meilleure Durée de Vidéo : 17.43 secondes (SHORT)\n",
            "viral_engagement.csv' créé/mis à jour avec la meilleure durée de vidéo !\n"
          ]
        }
      ]
    },
    {
      "cell_type": "code",
      "source": [
        "df.head()"
      ],
      "metadata": {
        "id": "TAkWaVUEaEJ-"
      },
      "execution_count": null,
      "outputs": []
    },
    {
      "cell_type": "markdown",
      "source": [],
      "metadata": {
        "id": "7N4wjwD8yUdE"
      }
    },
    {
      "cell_type": "markdown",
      "source": [
        "# find the best moment to post the video"
      ],
      "metadata": {
        "id": "8QPT02t2_rX_"
      }
    },
    {
      "cell_type": "code",
      "source": [
        "import pandas as pd\n",
        "\n",
        "# Convert 'create_time' to datetime\n",
        "df['create_time'] = pd.to_datetime(df['create_time'])\n",
        "\n",
        "# Extract the hour from the datetime\n",
        "df['post_hour'] = df['create_time'].dt.hour"
      ],
      "metadata": {
        "id": "vEJmrIJfGxQW"
      },
      "execution_count": 9,
      "outputs": []
    },
    {
      "cell_type": "code",
      "source": [
        "# Group by 'post_hour' and calculate the mean of engagement metrics\n",
        "engagement_by_hour = df.groupby('post_hour')[['play_count', 'share_count', 'comment_count', 'digg_count']].mean()\n",
        "\n",
        "# Calculate a weighted engagement score (similar to the viral score)\n",
        "engagement_by_hour['engagement_score'] = (\n",
        "    engagement_by_hour['play_count'] * 0.4 +\n",
        "    engagement_by_hour['share_count'] * 0.3 +\n",
        "    engagement_by_hour['comment_count'] * 0.2 +\n",
        "    engagement_by_hour['digg_count'] * 0.1\n",
        ")"
      ],
      "metadata": {
        "id": "h9Le1vMzO1Cp"
      },
      "execution_count": 10,
      "outputs": []
    },
    {
      "cell_type": "code",
      "source": [
        "# Find the hour with the highest engagement score\n",
        "best_hour = engagement_by_hour['engagement_score'].idxmax()\n",
        "\n",
        "print(f\"📊 Engagement Score by Hour:\")\n",
        "print(engagement_by_hour)\n",
        "\n",
        "print(f\"\\n🏆 Best Time to Post: {best_hour}:00 - {best_hour + 1}:00\")"
      ],
      "metadata": {
        "colab": {
          "base_uri": "https://localhost:8080/"
        },
        "id": "xHADNDJ2O3eO",
        "outputId": "dcf2b72d-3c1c-4eed-ea7b-7b821901c530"
      },
      "execution_count": 11,
      "outputs": [
        {
          "output_type": "stream",
          "name": "stdout",
          "text": [
            "📊 Engagement Score by Hour:\n",
            "             play_count   share_count  comment_count    digg_count  \\\n",
            "post_hour                                                            \n",
            "0          1.500979e+07  98666.402627   11923.908072  1.077416e+06   \n",
            "\n",
            "           engagement_score  \n",
            "post_hour                    \n",
            "0              6.143641e+06  \n",
            "\n",
            "🏆 Best Time to Post: 0:00 - 1:00\n"
          ]
        }
      ]
    },
    {
      "cell_type": "code",
      "source": [
        "l=[]\n",
        "l.append(best_hour+1)\n",
        "l.append(best_duration)\n"
      ],
      "metadata": {
        "colab": {
          "base_uri": "https://localhost:8080/"
        },
        "id": "35qYx5sTO8y-",
        "outputId": "e3244a59-1496-48b7-b86b-83d8b1db8f37"
      },
      "execution_count": 15,
      "outputs": [
        {
          "output_type": "execute_result",
          "data": {
            "text/plain": [
              "[1, 'short']"
            ]
          },
          "metadata": {},
          "execution_count": 15
        }
      ]
    },
    {
      "cell_type": "code",
      "source": [],
      "metadata": {
        "id": "x1ddizWi3iHM"
      },
      "execution_count": null,
      "outputs": []
    },
    {
      "cell_type": "code",
      "source": [],
      "metadata": {
        "id": "lMYWfWko3Jb6"
      },
      "execution_count": null,
      "outputs": []
    },
    {
      "cell_type": "code",
      "source": [],
      "metadata": {
        "id": "59iIimal34-d"
      },
      "execution_count": null,
      "outputs": []
    },
    {
      "cell_type": "code",
      "source": [],
      "metadata": {
        "id": "XDGqLxQN5nvK"
      },
      "execution_count": null,
      "outputs": []
    }
  ]
}